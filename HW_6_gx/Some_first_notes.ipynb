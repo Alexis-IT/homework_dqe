{
 "cells": [
  {
   "cell_type": "code",
   "execution_count": null,
   "id": "c67e9f8c-9622-407d-a572-18c573fde05e",
   "metadata": {},
   "outputs": [],
   "source": [
    "#https://videoportal.epam.com/video/mYRr3BYW"
   ]
  },
  {
   "cell_type": "code",
   "execution_count": 8,
   "id": "cadcee07-3f9e-4a72-96ae-e0371948fc58",
   "metadata": {},
   "outputs": [],
   "source": [
    "import great_expectations as ge\n",
    "import numpy as np\n",
    "import pandas as pd"
   ]
  },
  {
   "cell_type": "code",
   "execution_count": 16,
   "id": "2944a503-aac1-4138-9457-b0fb8d1931b8",
   "metadata": {},
   "outputs": [
    {
     "data": {
      "text/html": [
       "<div>\n",
       "<style scoped>\n",
       "    .dataframe tbody tr th:only-of-type {\n",
       "        vertical-align: middle;\n",
       "    }\n",
       "\n",
       "    .dataframe tbody tr th {\n",
       "        vertical-align: top;\n",
       "    }\n",
       "\n",
       "    .dataframe thead th {\n",
       "        text-align: right;\n",
       "    }\n",
       "</style>\n",
       "<table border=\"1\" class=\"dataframe\">\n",
       "  <thead>\n",
       "    <tr style=\"text-align: right;\">\n",
       "      <th></th>\n",
       "      <th>A</th>\n",
       "      <th>B</th>\n",
       "      <th>C</th>\n",
       "      <th>D</th>\n",
       "    </tr>\n",
       "  </thead>\n",
       "  <tbody>\n",
       "    <tr>\n",
       "      <th>0</th>\n",
       "      <td>9</td>\n",
       "      <td>9</td>\n",
       "      <td>9</td>\n",
       "      <td>6</td>\n",
       "    </tr>\n",
       "    <tr>\n",
       "      <th>1</th>\n",
       "      <td>2</td>\n",
       "      <td>0</td>\n",
       "      <td>9</td>\n",
       "      <td>0</td>\n",
       "    </tr>\n",
       "    <tr>\n",
       "      <th>2</th>\n",
       "      <td>4</td>\n",
       "      <td>0</td>\n",
       "      <td>3</td>\n",
       "      <td>8</td>\n",
       "    </tr>\n",
       "    <tr>\n",
       "      <th>3</th>\n",
       "      <td>8</td>\n",
       "      <td>9</td>\n",
       "      <td>5</td>\n",
       "      <td>9</td>\n",
       "    </tr>\n",
       "    <tr>\n",
       "      <th>4</th>\n",
       "      <td>2</td>\n",
       "      <td>0</td>\n",
       "      <td>8</td>\n",
       "      <td>1</td>\n",
       "    </tr>\n",
       "    <tr>\n",
       "      <th>5</th>\n",
       "      <td>1</td>\n",
       "      <td>9</td>\n",
       "      <td>8</td>\n",
       "      <td>1</td>\n",
       "    </tr>\n",
       "    <tr>\n",
       "      <th>6</th>\n",
       "      <td>7</td>\n",
       "      <td>7</td>\n",
       "      <td>5</td>\n",
       "      <td>2</td>\n",
       "    </tr>\n",
       "    <tr>\n",
       "      <th>7</th>\n",
       "      <td>2</td>\n",
       "      <td>2</td>\n",
       "      <td>4</td>\n",
       "      <td>0</td>\n",
       "    </tr>\n",
       "    <tr>\n",
       "      <th>8</th>\n",
       "      <td>8</td>\n",
       "      <td>4</td>\n",
       "      <td>6</td>\n",
       "      <td>7</td>\n",
       "    </tr>\n",
       "    <tr>\n",
       "      <th>9</th>\n",
       "      <td>7</td>\n",
       "      <td>2</td>\n",
       "      <td>3</td>\n",
       "      <td>5</td>\n",
       "    </tr>\n",
       "  </tbody>\n",
       "</table>\n",
       "</div>"
      ],
      "text/plain": [
       "   A  B  C  D\n",
       "0  9  9  9  6\n",
       "1  2  0  9  0\n",
       "2  4  0  3  8\n",
       "3  8  9  5  9\n",
       "4  2  0  8  1\n",
       "5  1  9  8  1\n",
       "6  7  7  5  2\n",
       "7  2  2  4  0\n",
       "8  8  4  6  7\n",
       "9  7  2  3  5"
      ]
     },
     "metadata": {},
     "output_type": "display_data"
    }
   ],
   "source": [
    "df_raw =pd.DataFrame(np.random.randint(0,10,size=(10,4)), columns=list('ABCD'))   #create random df with columns A,B,C,D\n",
    "display(df_raw)"
   ]
  },
  {
   "cell_type": "code",
   "execution_count": 17,
   "id": "cebdb85e-5f4c-41ac-9750-f8d85a2bfcaa",
   "metadata": {},
   "outputs": [
    {
     "data": {
      "text/plain": [
       "{\n",
       "  \"success\": true,\n",
       "  \"result\": {\n",
       "    \"element_count\": 10,\n",
       "    \"unexpected_count\": 0,\n",
       "    \"unexpected_percent\": 0.0,\n",
       "    \"unexpected_percent_total\": 0.0,\n",
       "    \"partial_unexpected_list\": []\n",
       "  },\n",
       "  \"meta\": {},\n",
       "  \"exception_info\": {\n",
       "    \"raised_exception\": false,\n",
       "    \"exception_traceback\": null,\n",
       "    \"exception_message\": null\n",
       "  }\n",
       "}"
      ]
     },
     "execution_count": 17,
     "metadata": {},
     "output_type": "execute_result"
    }
   ],
   "source": [
    "df=ge.from_pandas(df_raw)                    #convert df which read GE\n",
    "df.expect_column_values_to_not_be_null('A')   #validation that values in columns A  is not null"
   ]
  },
  {
   "cell_type": "code",
   "execution_count": 19,
   "id": "7a0d50b4-fa66-4948-983d-d4ecad651066",
   "metadata": {},
   "outputs": [
    {
     "data": {
      "text/plain": [
       "{\n",
       "  \"success\": false,\n",
       "  \"result\": {\n",
       "    \"element_count\": 10,\n",
       "    \"missing_count\": 0,\n",
       "    \"missing_percent\": 0.0,\n",
       "    \"unexpected_count\": 7,\n",
       "    \"unexpected_percent\": 70.0,\n",
       "    \"unexpected_percent_total\": 70.0,\n",
       "    \"unexpected_percent_nonmissing\": 70.0,\n",
       "    \"partial_unexpected_list\": [\n",
       "      2,\n",
       "      8,\n",
       "      2,\n",
       "      7,\n",
       "      2,\n",
       "      8,\n",
       "      7\n",
       "    ]\n",
       "  },\n",
       "  \"meta\": {},\n",
       "  \"exception_info\": {\n",
       "    \"raised_exception\": false,\n",
       "    \"exception_traceback\": null,\n",
       "    \"exception_message\": null\n",
       "  }\n",
       "}"
      ]
     },
     "execution_count": 19,
     "metadata": {},
     "output_type": "execute_result"
    }
   ],
   "source": [
    "df.expect_column_values_to_be_unique('A')   #validation that values in columns A  is not null"
   ]
  },
  {
   "cell_type": "code",
   "execution_count": null,
   "id": "e5620ada-5711-44b1-9ce5-9c78a6cf031e",
   "metadata": {},
   "outputs": [],
   "source": [
    "# {\n",
    "#   \"success\": false,          ---result of test\n",
    "#   \"result\": {                  -----result present in json format\n",
    "#     \"element_count\": 10,       ---elenents processing\n",
    "#     \"missing_count\": 0,\n",
    "#     \"missing_percent\": 0.0,\n",
    "#     \"unexpected_count\": 7,       ----cnt not suitable elements\n",
    "#     \"unexpected_percent\": 70.0,  -----% false\n",
    "#     \"unexpected_percent_total\": 70.0,\n",
    "#     \"unexpected_percent_nonmissing\": 70.0,\n",
    "#     \"partial_unexpected_list\": [      ---list with unsuitable values\n",
    "#       2,\n",
    "#       8,\n",
    "#       2,\n",
    "#       7,\n",
    "#       2,\n",
    "#       8,\n",
    "#       7\n",
    "#     ]\n",
    "#   },\n",
    "#   \"meta\": {},\n",
    "#   \"exception_info\": {\n",
    "#     \"raised_exception\": false,\n",
    "#     \"exception_traceback\": null,\n",
    "#     \"exception_message\": null\n",
    "#   }\n",
    "# }\n"
   ]
  },
  {
   "cell_type": "code",
   "execution_count": null,
   "id": "443c5bdc-133c-4c01-8a39-f8c793419f51",
   "metadata": {},
   "outputs": [],
   "source": []
  }
 ],
 "metadata": {
  "kernelspec": {
   "display_name": "Python 3 (ipykernel)",
   "language": "python",
   "name": "python3"
  },
  "language_info": {
   "codemirror_mode": {
    "name": "ipython",
    "version": 3
   },
   "file_extension": ".py",
   "mimetype": "text/x-python",
   "name": "python",
   "nbconvert_exporter": "python",
   "pygments_lexer": "ipython3",
   "version": "3.11.8"
  }
 },
 "nbformat": 4,
 "nbformat_minor": 5
}
